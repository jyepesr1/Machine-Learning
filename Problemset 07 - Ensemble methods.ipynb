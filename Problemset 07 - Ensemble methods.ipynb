{
 "cells": [
  {
   "cell_type": "markdown",
   "metadata": {},
   "source": [
    "## EJECUTA ESTA CELDA PARA AUTENTICARTE CON TU CUENTA DE GMAIL"
   ]
  },
  {
   "cell_type": "code",
   "execution_count": null,
   "metadata": {},
   "outputs": [],
   "source": [
    "!sudo /opt/miniconda/bin/pip install httplib2 apiclient oauth2client==1.5.2 ntplib tzlocal gspread google-api-python-client==1.6.2"
   ]
  },
  {
   "cell_type": "code",
   "execution_count": 10,
   "metadata": {},
   "outputs": [
    {
     "name": "stdout",
     "output_type": "stream",
     "text": [
      "CLICK ON THIS LINK TO AUTHENTICATE WITH YOUR GMAIL ACCOUNT\n",
      "https://accounts.google.com/o/oauth2/auth?scope=profile+email&redirect_uri=http%3A%2F%2Flocalhost%3A8080&response_type=code&client_id=486275613361-7nk9ktukfcfjevfoe3tamjp0pmbjmprs.apps.googleusercontent.com&access_type=offline\n",
      "waiting for authentication ...\n",
      "authentication succeeded\n"
     ]
    },
    {
     "data": {
      "text/html": [
       "<table><tr><td><img src='https://lh3.googleusercontent.com/-PVoAUx5fvTA/AAAAAAAAAAI/AAAAAAAAAIQ/PIBYY2kwPhY/photo.jpg' width=60 height=60/></td><td>johanyepes@gmail.com<br/>Johan Sebastian Yepes Rios<br/>google id: 115131859555741875188<br/>authorization code: 4/fQDUZimuFaahlCRo6CrgJBnftogfDOQCnEjd3fsNuOznZc8Eomz7qG5pK8T-cjdwqcUhT0JpAvefHB691ye7stE</td></tr></table>"
      ],
      "text/plain": [
       "<IPython.core.display.HTML object>"
      ]
     },
     "execution_count": 10,
     "metadata": {},
     "output_type": "execute_result"
    }
   ],
   "source": [
    "from mooclib import *\n",
    "import inspect, urllib\n",
    "html, auth_code, userinfo = google_authenticate(PORT_NUMBER=8080)\n",
    "html"
   ]
  },
  {
   "cell_type": "code",
   "execution_count": 9,
   "metadata": {},
   "outputs": [],
   "source": [
    "from sklearn.datasets import *\n",
    "import numpy as np\n",
    "import matplotlib.pyplot as plt\n",
    "%matplotlib inline\n",
    "\n",
    "\n",
    "def plot_2Ddata_with_boundary(predict,X,y):\n",
    "    n = 200\n",
    "    mins,maxs = np.min(X,axis=0), np.max(X,axis=0)\n",
    "    mins -= np.abs(mins)*.2\n",
    "    maxs += np.abs(maxs)*.2\n",
    "    d0 = np.linspace(mins[0], maxs[0],n)\n",
    "    d1 = np.linspace(mins[1], maxs[1],n)\n",
    "    gd0,gd1 = np.meshgrid(d0,d1)\n",
    "    D = np.hstack((gd0.reshape(-1,1), gd1.reshape(-1,1)))\n",
    "    p = (predict(D)*1.).reshape((n,n))\n",
    "    plt.contourf(gd0,gd1,p, levels=[-0.1,0.5], alpha=0.5, cmap=plt.cm.Greys)\n",
    "    plt.scatter(X[y==0][:,0], X[y==0][:,1], c=\"blue\")\n",
    "    plt.scatter(X[y==1][:,0], X[y==1][:,1], c=\"red\")"
   ]
  },
  {
   "cell_type": "markdown",
   "metadata": {},
   "source": [
    "## Ejercicio 1\n",
    "\n",
    "completa la siguiente función para que, dado un estimador, devuelva una lista con $n$ réplicas del mismo. Usa la función [`sklearn.base.clone`](http://scikit-learn.org/stable/modules/generated/sklearn.base.clone.html)"
   ]
  },
  {
   "cell_type": "code",
   "execution_count": 1,
   "metadata": {},
   "outputs": [],
   "source": [
    "def clone_estimators(estimator, n):\n",
    "    from sklearn.base import clone\n",
    "    estimators = [clone(estimator) for i in range(n)]\n",
    "    return estimators\n",
    "\n",
    "import urllib, inspect\n",
    "src1 = urllib.quote_plus(inspect.getsource(clone_estimators))"
   ]
  },
  {
   "cell_type": "markdown",
   "metadata": {},
   "source": [
    "#### evaluate your answer before submitting:"
   ]
  },
  {
   "cell_type": "code",
   "execution_count": 2,
   "metadata": {},
   "outputs": [
    {
     "name": "stdout",
     "output_type": "stream",
     "text": [
      "evaluation result CORRECT\r\n"
     ]
    }
   ],
   "source": [
    "!./run CHECK_SOLUTION PS7_1 $src1"
   ]
  },
  {
   "cell_type": "markdown",
   "metadata": {},
   "source": [
    "#### submit your answer (you must be connected to internet)"
   ]
  },
  {
   "cell_type": "code",
   "execution_count": 3,
   "metadata": {},
   "outputs": [
    {
     "name": "stdout",
     "output_type": "stream",
     "text": [
      "connecting ... registering submission for johanyepes@gmail.com ...\n",
      "your submissions sheet is https://docs.google.com/spreadsheets/d/1DLd93QfjZBJi20J-SE6-NSKtNaGtvKEawyPD03luawA\n",
      "----\n",
      "evaluation result CORRECT , submission registered\n"
     ]
    }
   ],
   "source": [
    "!./run SUBMIT_SOLUTION PS7_1 $src1"
   ]
  },
  {
   "cell_type": "markdown",
   "metadata": {},
   "source": [
    "## Ejercicio 2\n",
    "\n",
    "Completa la siguiente función para que, cada estimador de la lista `estimators`:\n",
    "    \n",
    "- muestree un porcentaje `train_pct` de datos para entrenamiento de `X` e `y`.\n",
    "- entrene el estimador con los datos muestreados\n",
    "\n",
    "y finalmente devuelva la lista con los estimadores entrenados. Observa que cada estimador se entrena con una muestra distinta"
   ]
  },
  {
   "cell_type": "code",
   "execution_count": 38,
   "metadata": {},
   "outputs": [],
   "source": [
    "def sample_train(estimators, X, y, train_pct):\n",
    "    from sklearn.cross_validation import train_test_split      \n",
    "    \n",
    "    for estimator in estimators:\n",
    "        X_train, _, y_train, _ = train_test_split(X, y, train_size=train_pct)\n",
    "        estimator.fit(X_train, y_train)\n",
    "\n",
    "    return estimators\n",
    "\n",
    "import urllib, inspect\n",
    "src2 = urllib.quote_plus(inspect.getsource(sample_train))"
   ]
  },
  {
   "cell_type": "markdown",
   "metadata": {},
   "source": [
    "#### evaluate your answer before submitting:"
   ]
  },
  {
   "cell_type": "code",
   "execution_count": 39,
   "metadata": {},
   "outputs": [
    {
     "name": "stdout",
     "output_type": "stream",
     "text": [
      "/opt/miniconda/lib/python2.7/site-packages/sklearn/cross_validation.py:41: DeprecationWarning: This module was deprecated in version 0.18 in favor of the model_selection module into which all the refactored classes and functions are moved. Also note that the interface of the new CV iterators are different from that of this module. This module will be removed in 0.20.\n",
      "  \"This module will be removed in 0.20.\", DeprecationWarning)\n",
      "evaluation result CORRECT\n"
     ]
    }
   ],
   "source": [
    "!./run CHECK_SOLUTION PS7_2 $src2"
   ]
  },
  {
   "cell_type": "markdown",
   "metadata": {},
   "source": [
    "#### submit your answer (you must be connected to internet)"
   ]
  },
  {
   "cell_type": "code",
   "execution_count": 11,
   "metadata": {},
   "outputs": [
    {
     "name": "stdout",
     "output_type": "stream",
     "text": [
      "connecting ... registering submission for johanyepes@gmail.com ...\n",
      "/opt/miniconda/lib/python2.7/site-packages/sklearn/cross_validation.py:41: DeprecationWarning: This module was deprecated in version 0.18 in favor of the model_selection module into which all the refactored classes and functions are moved. Also note that the interface of the new CV iterators are different from that of this module. This module will be removed in 0.20.\n",
      "  \"This module will be removed in 0.20.\", DeprecationWarning)\n",
      "your submissions sheet is https://docs.google.com/spreadsheets/d/1DLd93QfjZBJi20J-SE6-NSKtNaGtvKEawyPD03luawA\n",
      "----\n",
      "evaluation result CORRECT , submission registered\n"
     ]
    }
   ],
   "source": [
    "!./run SUBMIT_SOLUTION PS7_2 $src2"
   ]
  },
  {
   "cell_type": "markdown",
   "metadata": {},
   "source": [
    "## Ejercio 3\n",
    "\n",
    "organiza tu código de los dos ejercicios anteriores en la siguiente clase y, además, implementa un método `predict` en el que clasifique un cada ejemplo según la clase mayoritaria predicha por todos los estimadores. Observa que:\n",
    "\n",
    "- `self.base_estimator` tiene el estimador base\n",
    "- `self.nb_resamples` y `self.train_pct` contienen el número de remuestreos y el porcentaje de train para cada muestreo\n",
    "- `self._estimators` ha de contener la lista de estimadores clonados del estimador base"
   ]
  },
  {
   "cell_type": "code",
   "execution_count": 35,
   "metadata": {},
   "outputs": [],
   "source": [
    "def ResamplingEnsemble(**args): # hack for inspect to work with classes\n",
    "    \n",
    "    class ResamplingEnsemble_class:\n",
    "\n",
    "        def __init__(self, base_estimator, nb_resamples, train_pct):\n",
    "            self.base_estimator = base_estimator\n",
    "            self.nb_resamples   = nb_resamples\n",
    "            self.train_pct      = train_pct\n",
    "\n",
    "        def fit(self, X, y):\n",
    "            from sklearn.cross_validation import train_test_split        \n",
    "            from sklearn.base import clone\n",
    "\n",
    "            self._estimators     = [clone(self.base_estimator) for i in range(self.nb_resamples)]\n",
    "            for estimator in self._estimators:\n",
    "                X_train, _, y_train, _ = train_test_split(X, y, train_size=self.train_pct)\n",
    "                estimator.fit(X_train, y_train)\n",
    "\n",
    "        def predict(self, X):\n",
    "            preds = np.zeros(X.shape[0])\n",
    "            for estimator in self._estimators:\n",
    "                preds += estimator.predict(X)\n",
    "            \n",
    "            preds = (preds>(len(self._estimators)/2.)).astype(int)\n",
    "            \n",
    "            return preds\n",
    "\n",
    "        def score(self, X,y):\n",
    "            return np.sum(self.predict(X)==y)*1./len(X)\n",
    "\n",
    "        def get_params(self, deep=None):\n",
    "            return {\"base_estimator\":self.base_estimator, \n",
    "                    \"nb_resamples\": self.nb_resamples, \n",
    "                    \"train_pct\": self.train_pct}\n",
    "        \n",
    "    return ResamplingEnsemble_class(**args)\n",
    "\n",
    "import urllib, inspect\n",
    "src3 = urllib.quote_plus(inspect.getsource(ResamplingEnsemble))"
   ]
  },
  {
   "cell_type": "markdown",
   "metadata": {},
   "source": [
    "Comprueba tu código. Observa las fronteras de clasificación creadas a partir de clasificadores sencillos. El ensemble debe de tener un score de 0.8 approx. Ejecútalo varias veces para adquirir seguridad y entendimiento."
   ]
  },
  {
   "cell_type": "code",
   "execution_count": 36,
   "metadata": {},
   "outputs": [
    {
     "data": {
      "text/plain": [
       "Text(0.5,1,'SINGLE TREE score 0.720')"
      ]
     },
     "execution_count": 36,
     "metadata": {},
     "output_type": "execute_result"
    },
    {
     "data": {
      "image/png": "[encoded data removed]",
      "text/plain": [
       "<Figure size 864x288 with 2 Axes>"
      ]
     },
     "metadata": {},
     "output_type": "display_data"
    }
   ],
   "source": [
    "from sklearn.tree import DecisionTreeClassifier\n",
    "from sklearn.cross_validation import cross_val_score\n",
    "X,y = make_circles(400, noise=0.05)\n",
    "\n",
    "dt = DecisionTreeClassifier(max_depth=3)\n",
    "rs = ResamplingEnsemble(base_estimator=dt, nb_resamples=10, train_pct=.1)\n",
    "rs.fit(X,y)\n",
    "dt.fit(X,y)\n",
    "\n",
    "plt.figure(figsize=(12,4))\n",
    "plt.subplot(121)\n",
    "plot_2Ddata_with_boundary(rs.predict, X,y)\n",
    "plt.title(\"ENSEMBLE score %.3f\"%np.mean(cross_val_score(rs, X,y, cv=10)))\n",
    "plt.subplot(122)\n",
    "plot_2Ddata_with_boundary(dt.predict, X,y)\n",
    "plt.title(\"SINGLE TREE score %.3f\"%np.mean(cross_val_score(dt, X,y, cv=10)))"
   ]
  },
  {
   "cell_type": "markdown",
   "metadata": {},
   "source": [
    "#### evaluate your answer before submitting:"
   ]
  },
  {
   "cell_type": "code",
   "execution_count": 37,
   "metadata": {},
   "outputs": [
    {
     "name": "stdout",
     "output_type": "stream",
     "text": [
      "/opt/miniconda/lib/python2.7/site-packages/sklearn/cross_validation.py:41: DeprecationWarning: This module was deprecated in version 0.18 in favor of the model_selection module into which all the refactored classes and functions are moved. Also note that the interface of the new CV iterators are different from that of this module. This module will be removed in 0.20.\n",
      "  \"This module will be removed in 0.20.\", DeprecationWarning)\n",
      "evaluation result CORRECT\n"
     ]
    }
   ],
   "source": [
    "!./run CHECK_SOLUTION PS7_3 $src3"
   ]
  },
  {
   "cell_type": "markdown",
   "metadata": {},
   "source": [
    "#### submit your answer (you must be connected to internet)"
   ]
  },
  {
   "cell_type": "code",
   "execution_count": null,
   "metadata": {},
   "outputs": [],
   "source": [
    "!./run SUBMIT_SOLUTION PS7_3 $src3"
   ]
  },
  {
   "cell_type": "code",
   "execution_count": null,
   "metadata": {
    "collapsed": true
   },
   "outputs": [],
   "source": []
  }
 ],
 "metadata": {
  "kernelspec": {
   "display_name": "Python 2",
   "language": "python",
   "name": "python2"
  },
  "language_info": {
   "codemirror_mode": {
    "name": "ipython",
    "version": 2
   },
   "file_extension": ".py",
   "mimetype": "text/x-python",
   "name": "python",
   "nbconvert_exporter": "python",
   "pygments_lexer": "ipython2",
   "version": "2.7.14"
  },
  "toc": {
   "toc_cell": false,
   "toc_number_sections": false,
   "toc_threshold": 6,
   "toc_window_display": false
  },
  "widgets": {
   "state": {},
   "version": "1.1.2"
  }
 },
 "nbformat": 4,
 "nbformat_minor": 1
}
